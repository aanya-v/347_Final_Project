{
 "cells": [
  {
   "cell_type": "code",
   "execution_count": 2,
   "id": "6c1dc0e8-9881-458a-9313-f1d6a0651df6",
   "metadata": {},
   "outputs": [],
   "source": [
    "#Import packages\n",
    "import numpy as np\n",
    "import matplotlib.pyplot as plt\n",
    "import pandas as pd\n",
    "import seaborn as sns\n",
    "import warnings\n",
    "warnings.filterwarnings('ignore')\n",
    "import statsmodels.api as sm\n",
    "import time\n",
    "import itertools\n",
    "from sklearn.model_selection import train_test_split\n",
    "from sklearn.linear_model import LinearRegression\n",
    "from sklearn.metrics import mean_squared_error, r2_score, mean_absolute_error\n",
    "from sklearn.cross_decomposition import PLSRegression\n",
    "from sklearn.model_selection import cross_val_score\n",
    "from sklearn.tree import DecisionTreeRegressor\n",
    "from sklearn.tree import plot_tree\n",
    "from sklearn.model_selection import GridSearchCV\n",
    "from sklearn.ensemble import RandomForestRegressor"
   ]
  },
  {
   "cell_type": "markdown",
   "id": "529a4b17",
   "metadata": {},
   "source": [
    "Original Model"
   ]
  },
  {
   "cell_type": "code",
   "execution_count": 3,
   "id": "0e6999e3-f9be-48a8-8355-16d38f9723de",
   "metadata": {},
   "outputs": [
    {
     "data": {
      "text/html": [
       "<div>\n",
       "<style scoped>\n",
       "    .dataframe tbody tr th:only-of-type {\n",
       "        vertical-align: middle;\n",
       "    }\n",
       "\n",
       "    .dataframe tbody tr th {\n",
       "        vertical-align: top;\n",
       "    }\n",
       "\n",
       "    .dataframe thead th {\n",
       "        text-align: right;\n",
       "    }\n",
       "</style>\n",
       "<table border=\"1\" class=\"dataframe\">\n",
       "  <thead>\n",
       "    <tr style=\"text-align: right;\">\n",
       "      <th></th>\n",
       "      <th>Gender</th>\n",
       "      <th>Age</th>\n",
       "      <th>Height</th>\n",
       "      <th>Weight</th>\n",
       "      <th>Duration</th>\n",
       "      <th>Heart_Rate</th>\n",
       "      <th>Body_Temp</th>\n",
       "      <th>Calories</th>\n",
       "    </tr>\n",
       "  </thead>\n",
       "  <tbody>\n",
       "    <tr>\n",
       "      <th>0</th>\n",
       "      <td>0</td>\n",
       "      <td>68</td>\n",
       "      <td>190.0</td>\n",
       "      <td>94.0</td>\n",
       "      <td>29.0</td>\n",
       "      <td>105.0</td>\n",
       "      <td>40.8</td>\n",
       "      <td>231.0</td>\n",
       "    </tr>\n",
       "    <tr>\n",
       "      <th>1</th>\n",
       "      <td>1</td>\n",
       "      <td>20</td>\n",
       "      <td>166.0</td>\n",
       "      <td>60.0</td>\n",
       "      <td>14.0</td>\n",
       "      <td>94.0</td>\n",
       "      <td>40.3</td>\n",
       "      <td>66.0</td>\n",
       "    </tr>\n",
       "    <tr>\n",
       "      <th>2</th>\n",
       "      <td>0</td>\n",
       "      <td>69</td>\n",
       "      <td>179.0</td>\n",
       "      <td>79.0</td>\n",
       "      <td>5.0</td>\n",
       "      <td>88.0</td>\n",
       "      <td>38.7</td>\n",
       "      <td>26.0</td>\n",
       "    </tr>\n",
       "    <tr>\n",
       "      <th>3</th>\n",
       "      <td>1</td>\n",
       "      <td>34</td>\n",
       "      <td>179.0</td>\n",
       "      <td>71.0</td>\n",
       "      <td>13.0</td>\n",
       "      <td>100.0</td>\n",
       "      <td>40.5</td>\n",
       "      <td>71.0</td>\n",
       "    </tr>\n",
       "    <tr>\n",
       "      <th>4</th>\n",
       "      <td>1</td>\n",
       "      <td>27</td>\n",
       "      <td>154.0</td>\n",
       "      <td>58.0</td>\n",
       "      <td>10.0</td>\n",
       "      <td>81.0</td>\n",
       "      <td>39.8</td>\n",
       "      <td>35.0</td>\n",
       "    </tr>\n",
       "    <tr>\n",
       "      <th>...</th>\n",
       "      <td>...</td>\n",
       "      <td>...</td>\n",
       "      <td>...</td>\n",
       "      <td>...</td>\n",
       "      <td>...</td>\n",
       "      <td>...</td>\n",
       "      <td>...</td>\n",
       "      <td>...</td>\n",
       "    </tr>\n",
       "    <tr>\n",
       "      <th>14995</th>\n",
       "      <td>1</td>\n",
       "      <td>20</td>\n",
       "      <td>193.0</td>\n",
       "      <td>86.0</td>\n",
       "      <td>11.0</td>\n",
       "      <td>92.0</td>\n",
       "      <td>40.4</td>\n",
       "      <td>45.0</td>\n",
       "    </tr>\n",
       "    <tr>\n",
       "      <th>14996</th>\n",
       "      <td>1</td>\n",
       "      <td>27</td>\n",
       "      <td>165.0</td>\n",
       "      <td>65.0</td>\n",
       "      <td>6.0</td>\n",
       "      <td>85.0</td>\n",
       "      <td>39.2</td>\n",
       "      <td>23.0</td>\n",
       "    </tr>\n",
       "    <tr>\n",
       "      <th>14997</th>\n",
       "      <td>1</td>\n",
       "      <td>43</td>\n",
       "      <td>159.0</td>\n",
       "      <td>58.0</td>\n",
       "      <td>16.0</td>\n",
       "      <td>90.0</td>\n",
       "      <td>40.1</td>\n",
       "      <td>75.0</td>\n",
       "    </tr>\n",
       "    <tr>\n",
       "      <th>14998</th>\n",
       "      <td>0</td>\n",
       "      <td>78</td>\n",
       "      <td>193.0</td>\n",
       "      <td>97.0</td>\n",
       "      <td>2.0</td>\n",
       "      <td>84.0</td>\n",
       "      <td>38.3</td>\n",
       "      <td>11.0</td>\n",
       "    </tr>\n",
       "    <tr>\n",
       "      <th>14999</th>\n",
       "      <td>0</td>\n",
       "      <td>63</td>\n",
       "      <td>173.0</td>\n",
       "      <td>79.0</td>\n",
       "      <td>18.0</td>\n",
       "      <td>92.0</td>\n",
       "      <td>40.5</td>\n",
       "      <td>98.0</td>\n",
       "    </tr>\n",
       "  </tbody>\n",
       "</table>\n",
       "<p>15000 rows × 8 columns</p>\n",
       "</div>"
      ],
      "text/plain": [
       "       Gender  Age  Height  Weight  Duration  Heart_Rate  Body_Temp  Calories\n",
       "0           0   68   190.0    94.0      29.0       105.0       40.8     231.0\n",
       "1           1   20   166.0    60.0      14.0        94.0       40.3      66.0\n",
       "2           0   69   179.0    79.0       5.0        88.0       38.7      26.0\n",
       "3           1   34   179.0    71.0      13.0       100.0       40.5      71.0\n",
       "4           1   27   154.0    58.0      10.0        81.0       39.8      35.0\n",
       "...       ...  ...     ...     ...       ...         ...        ...       ...\n",
       "14995       1   20   193.0    86.0      11.0        92.0       40.4      45.0\n",
       "14996       1   27   165.0    65.0       6.0        85.0       39.2      23.0\n",
       "14997       1   43   159.0    58.0      16.0        90.0       40.1      75.0\n",
       "14998       0   78   193.0    97.0       2.0        84.0       38.3      11.0\n",
       "14999       0   63   173.0    79.0      18.0        92.0       40.5      98.0\n",
       "\n",
       "[15000 rows x 8 columns]"
      ]
     },
     "execution_count": 3,
     "metadata": {},
     "output_type": "execute_result"
    }
   ],
   "source": [
    "#Import dataframe\n",
    "df = pd.read_csv(\"calories.csv\")\n",
    "df['Gender'] = df['Gender'].map({'male': 0, 'female': 1})\n",
    "df.drop(['User_ID'], axis=1, inplace=True)\n",
    "df"
   ]
  },
  {
   "cell_type": "code",
   "execution_count": 4,
   "id": "7584a213-a3eb-4842-bfc0-50b4011e9ab1",
   "metadata": {},
   "outputs": [],
   "source": [
    "# Assign Calories data to X and Y, split into test and train.\n",
    "X = df.drop(['Calories'], axis=1)\n",
    "y = df['Calories']\n",
    "X_train, X_test, y_train, y_test = train_test_split(X, y, test_size=0.2, random_state=42)"
   ]
  },
  {
   "cell_type": "code",
   "execution_count": 21,
   "id": "ea3787a0-f81f-416e-8732-7e81a98bccaf",
   "metadata": {},
   "outputs": [
    {
     "name": "stdout",
     "output_type": "stream",
     "text": [
      "Test MSE for Bagging: 6.916138568\n",
      "\n",
      "Feature Importances:\n"
     ]
    },
    {
     "data": {
      "text/plain": [
       "Duration      0.914048\n",
       "Heart_Rate    0.048105\n",
       "Age           0.026350\n",
       "Gender        0.006776\n",
       "Weight        0.002985\n",
       "Height        0.001248\n",
       "Body_Temp     0.000489\n",
       "dtype: float64"
      ]
     },
     "execution_count": 21,
     "metadata": {},
     "output_type": "execute_result"
    }
   ],
   "source": [
    "#param_grid = {\n",
    "#    'n_estimators': [300, 500, 1000],\n",
    "#  'max_depth': [None, 10, 20, 30],\n",
    "#   'min_samples_split': [2, 5, 10],\n",
    "#   'min_samples_leaf': [1, 2, 4, 8, 10],\n",
    "#   'max_features': ['auto', 'sqrt', 'log2']\n",
    "# }\n",
    "\n",
    "#None of the grid search CV outperformed the baseline model, so stuck with those hyperparameters\n",
    "\n",
    "bagging_model = RandomForestRegressor(n_estimators=500, random_state=42, oob_score=True)\n",
    "\n",
    "#grid_search.fit(X_train, y_train)\n",
    "\n",
    "#fit model\n",
    "bagging_model.fit(X_train, y_train)\n",
    "\n",
    "#bagging_model = grid_search.best_estimator_\n",
    "\n",
    "#calculate Test MSE\n",
    "y_pred_bagging = bagging_model.predict(X_test)\n",
    "test_mse_bagging = mean_squared_error(y_test, y_pred_bagging)\n",
    "\n",
    "print(f\"Test MSE for Bagging: {test_mse_bagging}\")\n",
    "\n",
    "# Feature Importance\n",
    "importances = bagging_model.feature_importances_\n",
    "feature_importances = pd.Series(importances, index=X_train.columns)\n",
    "feature_importances = feature_importances.sort_values(ascending=False)\n",
    "print(\"\\nFeature Importances:\")\n",
    "feature_importances"
   ]
  },
  {
   "cell_type": "code",
   "execution_count": 6,
   "id": "6bfdc99f",
   "metadata": {},
   "outputs": [],
   "source": [
    "from sklearn.metrics import f1_score, roc_auc_score\n",
    "from sklearn.metrics import accuracy_score"
   ]
  },
  {
   "cell_type": "code",
   "execution_count": 22,
   "id": "d8ac10f8",
   "metadata": {},
   "outputs": [
    {
     "name": "stdout",
     "output_type": "stream",
     "text": [
      "Training MSE: 1.0929336293333332\n",
      "Test MSE: 6.916138568\n",
      "Training MAE: 0.637364\n",
      "Test MAE: 1.6695346666666664\n",
      "Training R-squared: 0.9997172838314758\n",
      "Test R-squared: 0.9982862993276923\n"
     ]
    }
   ],
   "source": [
    "#Full range of metrics for model performance\n",
    "\n",
    "#Preductions on training data\n",
    "y_train_pred = bagging_model.predict(X_train)\n",
    "\n",
    "#MSE\n",
    "train_mse = mean_squared_error(y_train, y_train_pred)\n",
    "test_mse = mean_squared_error(y_test, y_pred_bagging)\n",
    "\n",
    "#MAE\n",
    "train_mae = mean_absolute_error(y_train, y_train_pred)\n",
    "test_mae = mean_absolute_error(y_test, y_pred_bagging)\n",
    "\n",
    "# R^2\n",
    "train_r2 = r2_score(y_train, y_train_pred)\n",
    "test_r2 = r2_score(y_test, y_pred_bagging)\n",
    "\n",
    "print(f\"Training MSE: {train_mse}\")\n",
    "print(f\"Test MSE: {test_mse}\")\n",
    "print(f\"Training MAE: {train_mae}\")\n",
    "print(f\"Test MAE: {test_mae}\")\n",
    "print(f\"Training R-squared: {train_r2}\")\n",
    "print(f\"Test R-squared: {test_r2}\")"
   ]
  },
  {
   "cell_type": "markdown",
   "id": "8114bfdd",
   "metadata": {},
   "source": [
    "Imputed"
   ]
  },
  {
   "cell_type": "code",
   "execution_count": 23,
   "id": "60c10751",
   "metadata": {},
   "outputs": [],
   "source": [
    "#Load the 2nd dataset (version with imputed data)\n",
    "imputed = pd.read_csv(\"gym_imputed.csv\")\n",
    "y_imp = imputed['Calories']\n",
    "X_imp = imputed.drop(['Calories'], axis =1)"
   ]
  },
  {
   "cell_type": "code",
   "execution_count": 24,
   "id": "2308ef62",
   "metadata": {},
   "outputs": [],
   "source": [
    "#Test imputed data on trained original bagging model\n",
    "imp_y_pred_bagging = bagging_model.predict(X_imp)\n",
    "imp_mse_bagging = mean_squared_error(y_imp, imp_y_pred_bagging)\n",
    "imp_mae = mean_absolute_error(y_imp, imp_y_pred_bagging)"
   ]
  },
  {
   "cell_type": "code",
   "execution_count": 25,
   "id": "97abbd47",
   "metadata": {},
   "outputs": [
    {
     "name": "stdout",
     "output_type": "stream",
     "text": [
      "Imputed Test MSE: 506288.8212896731\n",
      "Imputed Test MAE: 657.9307358684481\n"
     ]
    }
   ],
   "source": [
    "#Results\n",
    "print(\"Imputed Test MSE:\", imp_mse_bagging)\n",
    "print(\"Imputed Test MAE:\", imp_mae)"
   ]
  },
  {
   "cell_type": "markdown",
   "id": "f05482a6",
   "metadata": {},
   "source": [
    "Not Imputed"
   ]
  },
  {
   "cell_type": "code",
   "execution_count": 26,
   "id": "20887cf2",
   "metadata": {},
   "outputs": [],
   "source": [
    "#Load 2nd dataset (unmodified)\n",
    "gym = pd.read_csv(\"gym_nonimputed.csv\")"
   ]
  },
  {
   "cell_type": "code",
   "execution_count": 27,
   "id": "bb726d66",
   "metadata": {},
   "outputs": [],
   "source": [
    "# Set X and y, split into train and test\n",
    "X = gym.drop(['Calories'], axis=1)\n",
    "y = gym['Calories']\n",
    "X_train, X_test, y_train, y_test = train_test_split(X, y, test_size=0.2, random_state=42)"
   ]
  },
  {
   "cell_type": "code",
   "execution_count": 28,
   "id": "da11260a",
   "metadata": {},
   "outputs": [
    {
     "name": "stdout",
     "output_type": "stream",
     "text": [
      "Test MSE for Bagging: 1753.1470931282051\n",
      "\n",
      "Feature Importances:\n"
     ]
    },
    {
     "data": {
      "text/plain": [
       "Duration      0.842144\n",
       "Heart_Rate    0.104846\n",
       "Age           0.023423\n",
       "Gender        0.014306\n",
       "Weight        0.007960\n",
       "Height        0.007320\n",
       "dtype: float64"
      ]
     },
     "execution_count": 28,
     "metadata": {},
     "output_type": "execute_result"
    }
   ],
   "source": [
    "# Train new bagging model on nonimputed 2nd dataset\n",
    "\n",
    "bagging_model = RandomForestRegressor(n_estimators=500, random_state=42, oob_score=True)\n",
    "bagging_model.fit(X_train, y_train)\n",
    "\n",
    "# Print results\n",
    "y_pred_bagging = bagging_model.predict(X_test)\n",
    "test_mse_bagging = mean_squared_error(y_test, y_pred_bagging)\n",
    "\n",
    "print(f\"Test MSE for Bagging: {test_mse_bagging}\")\n",
    "\n",
    "# Feature Importance\n",
    "importances = bagging_model.feature_importances_\n",
    "feature_importances = pd.Series(importances, index=X_train.columns)\n",
    "feature_importances = feature_importances.sort_values(ascending=False)\n",
    "print(\"\\nFeature Importances:\")\n",
    "feature_importances"
   ]
  },
  {
   "cell_type": "code",
   "execution_count": 32,
   "id": "024f85f1",
   "metadata": {},
   "outputs": [
    {
     "name": "stdout",
     "output_type": "stream",
     "text": [
      "Training MSE: 207.9101010025707\n",
      "Test MSE: 1753.1470931282051\n",
      "Training MAE: 10.569282776349615\n",
      "Test MAE: 30.83189743589744\n",
      "Training R-squared: 0.9971103269157254\n",
      "Test R-squared: 0.9789853574553046\n"
     ]
    }
   ],
   "source": [
    "#Full model metrics\n",
    "\n",
    "#Predictions on training data\n",
    "y_train_pred = bagging_model.predict(X_train)\n",
    "\n",
    "#MSE\n",
    "train_mse = mean_squared_error(y_train, y_train_pred)\n",
    "test_mse = mean_squared_error(y_test, y_pred_bagging)\n",
    "\n",
    "#MAE\n",
    "train_mae = mean_absolute_error(y_train, y_train_pred)\n",
    "test_mae = mean_absolute_error(y_test, y_pred_bagging)\n",
    "\n",
    "# R^2\n",
    "train_r2 = r2_score(y_train, y_train_pred)\n",
    "test_r2 = r2_score(y_test, y_pred_bagging)\n",
    "\n",
    "print(f\"Training MSE: {train_mse}\")\n",
    "print(f\"Test MSE: {test_mse}\")\n",
    "print(f\"Training MAE: {train_mae}\")\n",
    "print(f\"Test MAE: {test_mae}\")\n",
    "print(f\"Training R-squared: {train_r2}\")\n",
    "print(f\"Test R-squared: {test_r2}\")"
   ]
  }
 ],
 "metadata": {
  "kernelspec": {
   "display_name": "Python 3 (ipykernel)",
   "language": "python",
   "name": "python3"
  },
  "language_info": {
   "codemirror_mode": {
    "name": "ipython",
    "version": 3
   },
   "file_extension": ".py",
   "mimetype": "text/x-python",
   "name": "python",
   "nbconvert_exporter": "python",
   "pygments_lexer": "ipython3",
   "version": "3.11.5"
  }
 },
 "nbformat": 4,
 "nbformat_minor": 5
}
